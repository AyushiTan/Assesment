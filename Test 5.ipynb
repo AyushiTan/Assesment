{
 "cells": [
  {
   "cell_type": "code",
   "execution_count": null,
   "id": "d058926a",
   "metadata": {},
   "outputs": [],
   "source": [
    "# 5) Divide a student table having their marks into 4 equal marks groups (quartiles) and show their details."
   ]
  },
  {
   "cell_type": "code",
   "execution_count": null,
   "id": "a4acf946",
   "metadata": {},
   "outputs": [],
   "source": [
    "WITH QuartileDetails AS (\n",
    "    SELECT \n",
    "        studentname, \n",
    "        marks,\n",
    "        (SELECT COUNT(*) FROM table) AS totalstudents,\n",
    "        (SELECT PERCENTILE_CONT(0.25) WITHIN GROUP (ORDER BY marks) FROM table) AS quartile_1boundary,\n",
    "        (SELECT PERCENTILE_CONT(0.50) WITHIN GROUP (ORDER BY marks) FROM table) AS quartile_2boundary,\n",
    "        (SELECT PERCENTILE_CONT(0.75) WITHIN GROUP (ORDER BY marks) FROM table) AS quartile_3boundary\n",
    "    FROM table\n",
    ")\n",
    "SELECT \n",
    "    studentname, \n",
    "    marks,\n",
    "    CASE \n",
    "        WHEN marks <= quartile_1boundary THEN 'Quartile 1'\n",
    "        WHEN marks <= quartile_2boundary THEN 'Quartile 2'\n",
    "        WHEN marks <= quartile_3boundary THEN 'Quartile 3'\n",
    "        ELSE 'Quartile 4'\n",
    "    END AS quartile\n",
    "FROM QuartileDetails;"
   ]
  }
 ],
 "metadata": {
  "kernelspec": {
   "display_name": "Python 3 (ipykernel)",
   "language": "python",
   "name": "python3"
  },
  "language_info": {
   "codemirror_mode": {
    "name": "ipython",
    "version": 3
   },
   "file_extension": ".py",
   "mimetype": "text/x-python",
   "name": "python",
   "nbconvert_exporter": "python",
   "pygments_lexer": "ipython3",
   "version": "3.11.4"
  }
 },
 "nbformat": 4,
 "nbformat_minor": 5
}
