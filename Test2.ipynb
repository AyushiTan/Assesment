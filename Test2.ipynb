{
 "cells": [
  {
   "cell_type": "code",
   "execution_count": null,
   "id": "e4c7afe9",
   "metadata": {},
   "outputs": [],
   "source": [
    "# 2) Generate and save a dataframe with all of the columns: \n",
    "# (a) day, (b) month and (c) year between the current day from the independence day of India."
   ]
  },
  {
   "cell_type": "code",
   "execution_count": null,
   "id": "35de2fb2",
   "metadata": {},
   "outputs": [],
   "source": [
    "import pandas as pd\n",
    "from datetime import datetime\n",
    "\n",
    "date_range = pd.date_range(start='1947-08-15', end=datetime.today())\n",
    "df = pd.DataFrame({'Date': date_range})\n",
    "\n",
    "df['Day'] = df['Date'].dt.day\n",
    "df['Month'] = df['Date'].dt.month\n",
    "df['Year'] = df['Date'].dt.year\n",
    "\n",
    "df = df[['Day', 'Month', 'Year']]\n",
    "\n",
    "df"
   ]
  }
 ],
 "metadata": {
  "kernelspec": {
   "display_name": "Python 3 (ipykernel)",
   "language": "python",
   "name": "python3"
  },
  "language_info": {
   "codemirror_mode": {
    "name": "ipython",
    "version": 3
   },
   "file_extension": ".py",
   "mimetype": "text/x-python",
   "name": "python",
   "nbconvert_exporter": "python",
   "pygments_lexer": "ipython3",
   "version": "3.11.4"
  }
 },
 "nbformat": 4,
 "nbformat_minor": 5
}
